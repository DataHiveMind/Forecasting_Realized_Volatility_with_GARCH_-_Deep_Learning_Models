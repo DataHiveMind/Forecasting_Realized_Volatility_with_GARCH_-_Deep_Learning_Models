{
 "cells": [
  {
   "cell_type": "markdown",
   "metadata": {},
   "source": [
    "# Model Prototyping\n",
    "\n",
    "The goal is to test ideas, debug model architectures, and choose hyperparameters before formalizing the code\n",
    "\n",
    "## Key Activities:\n",
    "\n",
    "1. Sanity Check Models\n",
    "\n",
    "2. Test Data Shapes\n",
    "\n",
    "3. Hyperparameter Tuning\n",
    "\n",
    "4. Iterate Rapidly"
   ]
  },
  {
   "cell_type": "markdown",
   "metadata": {},
   "source": [
    "## 1. Sanity Check Models"
   ]
  },
  {
   "cell_type": "code",
   "execution_count": 1,
   "metadata": {},
   "outputs": [
    {
     "name": "stderr",
     "output_type": "stream",
     "text": [
      "c:\\Users\\kenne\\Python_Quant_Projects\\Forecasting_Realized_Volatility_with_GARCH_&_Deep_Learning_Models\\.venv\\Lib\\site-packages\\statsmodels\\tsa\\base\\tsa_model.py:473: ValueWarning: A date index has been provided, but it has no associated frequency information and so will be ignored when e.g. forecasting.\n",
      "  self._init_dates(dates, freq)\n",
      "c:\\Users\\kenne\\Python_Quant_Projects\\Forecasting_Realized_Volatility_with_GARCH_&_Deep_Learning_Models\\.venv\\Lib\\site-packages\\statsmodels\\tsa\\base\\tsa_model.py:473: ValueWarning: A date index has been provided, but it has no associated frequency information and so will be ignored when e.g. forecasting.\n",
      "  self._init_dates(dates, freq)\n",
      "c:\\Users\\kenne\\Python_Quant_Projects\\Forecasting_Realized_Volatility_with_GARCH_&_Deep_Learning_Models\\.venv\\Lib\\site-packages\\statsmodels\\tsa\\base\\tsa_model.py:473: ValueWarning: A date index has been provided, but it has no associated frequency information and so will be ignored when e.g. forecasting.\n",
      "  self._init_dates(dates, freq)\n",
      "INFO:root:ARIMA model fitted with order (5, 1, 0)\n",
      "c:\\Users\\kenne\\Python_Quant_Projects\\Forecasting_Realized_Volatility_with_GARCH_&_Deep_Learning_Models\\.venv\\Lib\\site-packages\\arch\\univariate\\base.py:309: DataScaleWarning: y is poorly scaled, which may affect convergence of the optimizer when\n",
      "estimating the model parameters. The scale of y is 0.000333. Parameter\n",
      "estimation work better when this value is between 1 and 1000. The recommended\n",
      "rescaling is 100 * y.\n",
      "\n",
      "This warning can be disabled by either rescaling y before initializing the\n",
      "model or by setting rescale=False.\n",
      "\n",
      "  warnings.warn(\n",
      "INFO:root:GARCH model fitted with p=1, q=1\n"
     ]
    },
    {
     "name": "stdout",
     "output_type": "stream",
     "text": [
      "ARIMA model summary:\n",
      "                               SARIMAX Results                                \n",
      "==============================================================================\n",
      "Dep. Variable:                Returns   No. Observations:                 2960\n",
      "Model:                 ARIMA(5, 1, 0)   Log Likelihood                7414.250\n",
      "Date:                Thu, 18 Sep 2025   AIC                         -14816.500\n",
      "Time:                        19:51:03   BIC                         -14780.544\n",
      "Sample:                             0   HQIC                        -14803.558\n",
      "                               - 2960                                         \n",
      "Covariance Type:                  opg                                         \n",
      "==============================================================================\n",
      "                 coef    std err          z      P>|z|      [0.025      0.975]\n",
      "------------------------------------------------------------------------------\n",
      "ar.L1         -0.8829      0.013    -66.938      0.000      -0.909      -0.857\n",
      "ar.L2         -0.7035      0.018    -38.041      0.000      -0.740      -0.667\n",
      "ar.L3         -0.5424      0.020    -27.411      0.000      -0.581      -0.504\n",
      "ar.L4         -0.3495      0.018    -19.031      0.000      -0.385      -0.313\n",
      "ar.L5         -0.1536      0.013    -11.899      0.000      -0.179      -0.128\n",
      "sigma2         0.0004   5.48e-06     71.072      0.000       0.000       0.000\n",
      "===================================================================================\n",
      "Ljung-Box (L1) (Q):                   2.83   Jarque-Bera (JB):              4010.37\n",
      "Prob(Q):                              0.09   Prob(JB):                         0.00\n",
      "Heteroskedasticity (H):               1.61   Skew:                             0.38\n",
      "Prob(H) (two-sided):                  0.00   Kurtosis:                         8.65\n",
      "===================================================================================\n",
      "\n",
      "Warnings:\n",
      "[1] Covariance matrix calculated using the outer product of gradients (complex-step).\n",
      "GARCH model summary:\n",
      "                     Constant Mean - GARCH Model Results                      \n",
      "==============================================================================\n",
      "Dep. Variable:                Returns   R-squared:                       0.000\n",
      "Mean Model:             Constant Mean   Adj. R-squared:                  0.000\n",
      "Vol Model:                      GARCH   Log-Likelihood:                7875.78\n",
      "Distribution:                  Normal   AIC:                          -15743.6\n",
      "Method:            Maximum Likelihood   BIC:                          -15719.6\n",
      "                                        No. Observations:                 2960\n",
      "Date:                Thu, Sep 18 2025   Df Residuals:                     2959\n",
      "Time:                        19:51:03   Df Model:                            1\n",
      "                                 Mean Model                                 \n",
      "============================================================================\n",
      "                 coef    std err          t      P>|t|      95.0% Conf. Int.\n",
      "----------------------------------------------------------------------------\n",
      "mu         1.5229e-03  3.146e-04      4.841  1.292e-06 [9.063e-04,2.140e-03]\n",
      "                              Volatility Model                              \n",
      "============================================================================\n",
      "                 coef    std err          t      P>|t|      95.0% Conf. Int.\n",
      "----------------------------------------------------------------------------\n",
      "omega      6.6603e-06  1.284e-12  5.186e+06      0.000 [6.660e-06,6.660e-06]\n",
      "alpha[1]       0.0500  3.241e-03     15.429  1.041e-53 [4.365e-02,5.635e-02]\n",
      "beta[1]        0.9300  1.332e-03    698.064      0.000     [  0.927,  0.933]\n",
      "============================================================================\n",
      "\n",
      "Covariance estimator: robust\n"
     ]
    }
   ],
   "source": [
    "import sys\n",
    "sys.path.append('..')\n",
    "from src.config import data_paths, model_params\n",
    "from src.models import fit_arima_model, fit_garch_model, fit_xgboost_model, fit_catboost_model\n",
    "import pandas as pd\n",
    "import numpy as np\n",
    "from sklearn.model_selection import train_test_split\n",
    "from sklearn.metrics import mean_squared_error\n",
    "\n",
    "# Load final dataset\n",
    "final_data = pd.read_csv(f'{data_paths[\"processed_data\"]}/final_feature_dataset.csv', parse_dates=['Date'])\n",
    "final_data.set_index('Date', inplace=True)\n",
    "\n",
    "# Select one ticker for prototyping\n",
    "ticker = 'AAPL'\n",
    "data = final_data[final_data['Ticker'] == ticker].copy()\n",
    "\n",
    "# Prepare target: next day's volatility\n",
    "data['Target'] = data['Realized_Volatility'].shift(-1)\n",
    "data = data.dropna()\n",
    "\n",
    "# Simple sanity check with ARIMA on returns\n",
    "returns = data['Returns']\n",
    "arima_model = fit_arima_model(returns, (5, 1, 0))\n",
    "print('ARIMA model summary:')\n",
    "print(arima_model.summary())\n",
    "\n",
    "# Sanity check with GARCH\n",
    "garch_model = fit_garch_model(returns, 1, 1)\n",
    "print('GARCH model summary:')\n",
    "print(garch_model.summary())"
   ]
  },
  {
   "cell_type": "markdown",
   "metadata": {},
   "source": [
    "## 2. Test Data Shapes"
   ]
  },
  {
   "cell_type": "code",
   "execution_count": 2,
   "metadata": {},
   "outputs": [
    {
     "name": "stdout",
     "output_type": "stream",
     "text": [
      "X_train shape: (2368, 41)\n",
      "X_test shape: (592, 41)\n",
      "y_train shape: (2368,)\n",
      "y_test shape: (592,)\n",
      "Features: ['Close', 'High', 'Low', 'Open', 'Volume', 'SMA_25', 'SMA_50', 'EMA_25', 'EMA_50', 'Returns', 'Close_Lag_1', 'Returns_Lag_1', 'Volatility_Lag_1', 'Close_Lag_2', 'Returns_Lag_2', 'Volatility_Lag_2', 'Close_Lag_3', 'Returns_Lag_3', 'Volatility_Lag_3', 'Close_Lag_5', 'Returns_Lag_5', 'Volatility_Lag_5', 'Close_Lag_10', 'Returns_Lag_10', 'Volatility_Lag_10', 'Rolling_Mean_5', 'Rolling_Std_5', 'Rolling_Skew_5', 'Rolling_Kurt_5', 'Rolling_Mean_10', 'Rolling_Std_10', 'Rolling_Skew_10', 'Rolling_Kurt_10', 'Rolling_Mean_20', 'Rolling_Std_20', 'Rolling_Skew_20', 'Rolling_Kurt_20', 'Rolling_Mean_50', 'Rolling_Std_50', 'Rolling_Skew_50', 'Rolling_Kurt_50']\n"
     ]
    }
   ],
   "source": [
    "# Prepare features and target\n",
    "features = [col for col in data.columns if col not in ['Ticker', 'Target', 'Realized_Volatility']]\n",
    "X = data[features]\n",
    "y = data['Target']\n",
    "\n",
    "# Train-test split\n",
    "X_train, X_test, y_train, y_test = train_test_split(X, y, test_size=0.2, shuffle=False)\n",
    "\n",
    "print(f'X_train shape: {X_train.shape}')\n",
    "print(f'X_test shape: {X_test.shape}')\n",
    "print(f'y_train shape: {y_train.shape}')\n",
    "print(f'y_test shape: {y_test.shape}')\n",
    "print(f'Features: {features}')"
   ]
  },
  {
   "cell_type": "markdown",
   "metadata": {},
   "source": [
    "## 3. Hyperparameter Tuning"
   ]
  },
  {
   "cell_type": "code",
   "execution_count": 3,
   "metadata": {},
   "outputs": [
    {
     "name": "stdout",
     "output_type": "stream",
     "text": [
      "Best parameters: {'learning_rate': 0.1, 'max_depth': 3, 'n_estimators': 50}\n",
      "Best score: -0.0004029930511135966\n",
      "Test MSE: 0.0006535169166552385\n"
     ]
    }
   ],
   "source": [
    "from sklearn.model_selection import GridSearchCV\n",
    "from xgboost import XGBRegressor\n",
    "\n",
    "# Simple hyperparameter tuning for XGBoost\n",
    "param_grid = {\n",
    "    'n_estimators': [50, 100],\n",
    "    'max_depth': [3, 5],\n",
    "    'learning_rate': [0.01, 0.1]\n",
    "}\n",
    "\n",
    "xgb = XGBRegressor()\n",
    "grid_search = GridSearchCV(xgb, param_grid, cv=3, scoring='neg_mean_squared_error')\n",
    "grid_search.fit(X_train, y_train)\n",
    "\n",
    "print(f'Best parameters: {grid_search.best_params_}')\n",
    "print(f'Best score: {grid_search.best_score_}')\n",
    "\n",
    "# Fit best model\n",
    "best_xgb = grid_search.best_estimator_\n",
    "y_pred = best_xgb.predict(X_test)\n",
    "mse = mean_squared_error(y_test, y_pred)\n",
    "print(f'Test MSE: {mse}')"
   ]
  },
  {
   "cell_type": "markdown",
   "metadata": {},
   "source": [
    "## 4. Iterate Rapidly"
   ]
  },
  {
   "cell_type": "code",
   "execution_count": 4,
   "metadata": {},
   "outputs": [
    {
     "name": "stderr",
     "output_type": "stream",
     "text": [
      "INFO:root:CatBoost model fitted\n"
     ]
    },
    {
     "name": "stdout",
     "output_type": "stream",
     "text": [
      "CatBoost Test MSE: 0.0008417286213650223\n",
      "XGBoost MSE: 0.0006535169166552385\n",
      "CatBoost MSE: 0.0008417286213650223\n",
      "Better model: XGBoost\n"
     ]
    }
   ],
   "source": [
    "# Quick iteration with CatBoost\n",
    "catboost_model = fit_catboost_model(X_train.values, y_train.values, params={'iterations': 50, 'verbose': 0})\n",
    "y_pred_cat = catboost_model.predict(X_test.values)\n",
    "mse_cat = mean_squared_error(y_test, y_pred_cat)\n",
    "print(f'CatBoost Test MSE: {mse_cat}')\n",
    "\n",
    "# Compare with XGBoost\n",
    "print(f'XGBoost MSE: {mse}')\n",
    "print(f'CatBoost MSE: {mse_cat}')\n",
    "print('Better model:', 'XGBoost' if mse < mse_cat else 'CatBoost')"
   ]
  }
 ],
 "metadata": {
  "kernelspec": {
   "display_name": ".venv",
   "language": "python",
   "name": "python3"
  },
  "language_info": {
   "codemirror_mode": {
    "name": "ipython",
    "version": 3
   },
   "file_extension": ".py",
   "mimetype": "text/x-python",
   "name": "python",
   "nbconvert_exporter": "python",
   "pygments_lexer": "ipython3",
   "version": "3.13.5"
  }
 },
 "nbformat": 4,
 "nbformat_minor": 4
}
