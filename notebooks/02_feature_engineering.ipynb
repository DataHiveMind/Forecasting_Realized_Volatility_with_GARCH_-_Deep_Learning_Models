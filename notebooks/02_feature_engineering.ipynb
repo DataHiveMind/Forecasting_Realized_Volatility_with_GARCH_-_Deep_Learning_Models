{
 "cells": [
  {
   "cell_type": "markdown",
   "metadata": {},
   "source": [
    "# Feature Engineering Notebook\n",
    "\n",
    "This notebook is where you transform the clean, raw data into structured dataset suitable for modeling.\n",
    "\n",
    "## Key Activities:\n",
    "\n",
    "1. Calculate Realized Volatility\n",
    "\n",
    "2. Create Lagged Features\n",
    "\n",
    "3. Generate Rolling Statistics\n",
    "\n",
    "4. Prepare Final Dataset"
   ]
  },
  {
   "cell_type": "markdown",
   "metadata": {},
   "source": [
    "## 1. Calculate Realized Volatility"
   ]
  },
  {
   "cell_type": "code",
   "execution_count": 6,
   "metadata": {},
   "outputs": [
    {
     "name": "stdout",
     "output_type": "stream",
     "text": [
      "                       Close               High                 Low  \\\n",
      "Date       Ticker                                                     \n",
      "2010-03-16 AAPL     6.738016  6.753926278206962   6.679776890812714   \n",
      "           ADBE    35.020000  35.68000030517578   34.93000030517578   \n",
      "           AMZN     6.589500  6.614500045776367   6.525000095367432   \n",
      "           BAC     13.285204  13.31640739580477  13.183789334075428   \n",
      "           CMCSA    6.273617  6.363291131435733   6.234159861947719   \n",
      "\n",
      "                                 Open     Volume     SMA_25     SMA_50  \\\n",
      "Date       Ticker                                                        \n",
      "2010-03-16 AAPL     6.729910434825474  446908000   6.280004   6.212885   \n",
      "           ADBE    35.459999084472656    5818800  34.083600  34.471400   \n",
      "           AMZN     6.561999797821045   82650000   6.174620   6.214600   \n",
      "           BAC     13.238396508681525  107411800  12.590500  12.445456   \n",
      "           CMCSA    6.356117019983971   39739600   5.933715   5.880556   \n",
      "\n",
      "                      EMA_25     EMA_50  Returns  Realized_Volatility  \n",
      "Date       Ticker                                                      \n",
      "2010-03-16 AAPL     6.398701   6.309297      NaN                  NaN  \n",
      "           ADBE    34.585489  34.739711      NaN                  NaN  \n",
      "           AMZN     6.308858   6.295801      NaN                  NaN  \n",
      "           BAC     12.774680  12.545668      NaN                  NaN  \n",
      "           CMCSA    6.044276   5.969435      NaN                  NaN  \n"
     ]
    },
    {
     "name": "stderr",
     "output_type": "stream",
     "text": [
      "C:\\Users\\kenne\\AppData\\Local\\Temp\\ipykernel_3068\\3831862608.py:16: FutureWarning: The default fill_method='ffill' in SeriesGroupBy.pct_change is deprecated and will be removed in a future version. Either fill in any non-leading NA values prior to calling pct_change or specify 'fill_method=None' to not fill NA values.\n",
      "  combined_data['Returns'] = combined_data.groupby('Ticker')['Close'].pct_change()\n"
     ]
    }
   ],
   "source": [
    "import sys\n",
    "sys.path.append('..')\n",
    "from src.config import portfolio, data_paths\n",
    "import pandas as pd\n",
    "import numpy as np\n",
    "\n",
    "tickers = portfolio['tickers']\n",
    "processed_data_path = data_paths['processed_data']\n",
    "\n",
    "# Load combined data\n",
    "combined_data = pd.read_csv(f'{processed_data_path}/combined_processed_data.csv', parse_dates=['Date'])\n",
    "combined_data['Close'] = pd.to_numeric(combined_data['Close'], errors='coerce')\n",
    "combined_data.set_index(['Date', 'Ticker'], inplace=True)\n",
    "\n",
    "# Calculate realized volatility (annualized)\n",
    "combined_data['Returns'] = combined_data.groupby('Ticker')['Close'].pct_change()\n",
    "combined_data['Realized_Volatility'] = (\n",
    "    combined_data.groupby('Ticker')['Returns']\n",
    "    .transform(lambda x: x.rolling(window=252).std() * np.sqrt(252))\n",
    ")\n",
    "print(combined_data.head())"
   ]
  },
  {
   "cell_type": "markdown",
   "metadata": {},
   "source": [
    "## 2. Create Lagged Features"
   ]
  },
  {
   "cell_type": "code",
   "execution_count": 7,
   "metadata": {},
   "outputs": [
    {
     "name": "stdout",
     "output_type": "stream",
     "text": [
      "                       Close               High                 Low  \\\n",
      "Date       Ticker                                                     \n",
      "2010-03-16 AAPL     6.738016  6.753926278206962   6.679776890812714   \n",
      "           ADBE    35.020000  35.68000030517578   34.93000030517578   \n",
      "           AMZN     6.589500  6.614500045776367   6.525000095367432   \n",
      "           BAC     13.285204  13.31640739580477  13.183789334075428   \n",
      "           CMCSA    6.273617  6.363291131435733   6.234159861947719   \n",
      "\n",
      "                                 Open     Volume     SMA_25     SMA_50  \\\n",
      "Date       Ticker                                                        \n",
      "2010-03-16 AAPL     6.729910434825474  446908000   6.280004   6.212885   \n",
      "           ADBE    35.459999084472656    5818800  34.083600  34.471400   \n",
      "           AMZN     6.561999797821045   82650000   6.174620   6.214600   \n",
      "           BAC     13.238396508681525  107411800  12.590500  12.445456   \n",
      "           CMCSA    6.356117019983971   39739600   5.933715   5.880556   \n",
      "\n",
      "                      EMA_25     EMA_50  Returns  ...  Volatility_Lag_2  \\\n",
      "Date       Ticker                                 ...                     \n",
      "2010-03-16 AAPL     6.398701   6.309297      NaN  ...               NaN   \n",
      "           ADBE    34.585489  34.739711      NaN  ...               NaN   \n",
      "           AMZN     6.308858   6.295801      NaN  ...               NaN   \n",
      "           BAC     12.774680  12.545668      NaN  ...               NaN   \n",
      "           CMCSA    6.044276   5.969435      NaN  ...               NaN   \n",
      "\n",
      "                   Close_Lag_3  Returns_Lag_3  Volatility_Lag_3  Close_Lag_5  \\\n",
      "Date       Ticker                                                              \n",
      "2010-03-16 AAPL            NaN            NaN               NaN          NaN   \n",
      "           ADBE            NaN            NaN               NaN          NaN   \n",
      "           AMZN            NaN            NaN               NaN          NaN   \n",
      "           BAC             NaN            NaN               NaN          NaN   \n",
      "           CMCSA           NaN            NaN               NaN          NaN   \n",
      "\n",
      "                   Returns_Lag_5  Volatility_Lag_5  Close_Lag_10  \\\n",
      "Date       Ticker                                                  \n",
      "2010-03-16 AAPL              NaN               NaN           NaN   \n",
      "           ADBE              NaN               NaN           NaN   \n",
      "           AMZN              NaN               NaN           NaN   \n",
      "           BAC               NaN               NaN           NaN   \n",
      "           CMCSA             NaN               NaN           NaN   \n",
      "\n",
      "                   Returns_Lag_10  Volatility_Lag_10  \n",
      "Date       Ticker                                     \n",
      "2010-03-16 AAPL               NaN                NaN  \n",
      "           ADBE               NaN                NaN  \n",
      "           AMZN               NaN                NaN  \n",
      "           BAC                NaN                NaN  \n",
      "           CMCSA              NaN                NaN  \n",
      "\n",
      "[5 rows x 26 columns]\n"
     ]
    }
   ],
   "source": [
    "# Create lagged features for Close, Returns, and Volatility\n",
    "lags = [1, 2, 3, 5, 10]\n",
    "for lag in lags:\n",
    "    combined_data[f'Close_Lag_{lag}'] = combined_data.groupby('Ticker')['Close'].shift(lag)\n",
    "    combined_data[f'Returns_Lag_{lag}'] = combined_data.groupby('Ticker')['Returns'].shift(lag)\n",
    "    combined_data[f'Volatility_Lag_{lag}'] = combined_data.groupby('Ticker')['Realized_Volatility'].shift(lag)\n",
    "\n",
    "print(combined_data.head())"
   ]
  },
  {
   "cell_type": "markdown",
   "metadata": {},
   "source": [
    "## 3. Generate Rolling Statistics"
   ]
  },
  {
   "cell_type": "code",
   "execution_count": 8,
   "metadata": {},
   "outputs": [
    {
     "name": "stdout",
     "output_type": "stream",
     "text": [
      "                       Close               High                 Low  \\\n",
      "Date       Ticker                                                     \n",
      "2010-03-16 AAPL     6.738016  6.753926278206962   6.679776890812714   \n",
      "           ADBE    35.020000  35.68000030517578   34.93000030517578   \n",
      "           AMZN     6.589500  6.614500045776367   6.525000095367432   \n",
      "           BAC     13.285204  13.31640739580477  13.183789334075428   \n",
      "           CMCSA    6.273617  6.363291131435733   6.234159861947719   \n",
      "\n",
      "                                 Open     Volume     SMA_25     SMA_50  \\\n",
      "Date       Ticker                                                        \n",
      "2010-03-16 AAPL     6.729910434825474  446908000   6.280004   6.212885   \n",
      "           ADBE    35.459999084472656    5818800  34.083600  34.471400   \n",
      "           AMZN     6.561999797821045   82650000   6.174620   6.214600   \n",
      "           BAC     13.238396508681525  107411800  12.590500  12.445456   \n",
      "           CMCSA    6.356117019983971   39739600   5.933715   5.880556   \n",
      "\n",
      "                      EMA_25     EMA_50  Returns  ...  Rolling_Skew_10  \\\n",
      "Date       Ticker                                 ...                    \n",
      "2010-03-16 AAPL     6.398701   6.309297      NaN  ...              NaN   \n",
      "           ADBE    34.585489  34.739711      NaN  ...              NaN   \n",
      "           AMZN     6.308858   6.295801      NaN  ...              NaN   \n",
      "           BAC     12.774680  12.545668      NaN  ...              NaN   \n",
      "           CMCSA    6.044276   5.969435      NaN  ...              NaN   \n",
      "\n",
      "                   Rolling_Kurt_10  Rolling_Mean_20  Rolling_Std_20  \\\n",
      "Date       Ticker                                                     \n",
      "2010-03-16 AAPL                NaN              NaN             NaN   \n",
      "           ADBE                NaN              NaN             NaN   \n",
      "           AMZN                NaN              NaN             NaN   \n",
      "           BAC                 NaN              NaN             NaN   \n",
      "           CMCSA               NaN              NaN             NaN   \n",
      "\n",
      "                   Rolling_Skew_20  Rolling_Kurt_20  Rolling_Mean_50  \\\n",
      "Date       Ticker                                                      \n",
      "2010-03-16 AAPL                NaN              NaN              NaN   \n",
      "           ADBE                NaN              NaN              NaN   \n",
      "           AMZN                NaN              NaN              NaN   \n",
      "           BAC                 NaN              NaN              NaN   \n",
      "           CMCSA               NaN              NaN              NaN   \n",
      "\n",
      "                   Rolling_Std_50  Rolling_Skew_50  Rolling_Kurt_50  \n",
      "Date       Ticker                                                    \n",
      "2010-03-16 AAPL               NaN              NaN              NaN  \n",
      "           ADBE               NaN              NaN              NaN  \n",
      "           AMZN               NaN              NaN              NaN  \n",
      "           BAC                NaN              NaN              NaN  \n",
      "           CMCSA              NaN              NaN              NaN  \n",
      "\n",
      "[5 rows x 42 columns]\n"
     ]
    }
   ],
   "source": [
    "# Generate rolling statistics\n",
    "windows = [5, 10, 20, 50]\n",
    "for window in windows:\n",
    "    combined_data[f'Rolling_Mean_{window}'] = (\n",
    "        combined_data.groupby('Ticker')['Close']\n",
    "        .transform(lambda x: x.rolling(window=window).mean())\n",
    "    )\n",
    "    combined_data[f'Rolling_Std_{window}'] = (\n",
    "        combined_data.groupby('Ticker')['Close']\n",
    "        .transform(lambda x: x.rolling(window=window).std())\n",
    "    )\n",
    "    combined_data[f'Rolling_Skew_{window}'] = (\n",
    "        combined_data.groupby('Ticker')['Returns']\n",
    "        .transform(lambda x: x.rolling(window=window).skew())\n",
    "    )\n",
    "    combined_data[f'Rolling_Kurt_{window}'] = (\n",
    "        combined_data.groupby('Ticker')['Returns']\n",
    "        .transform(lambda x: x.rolling(window=window).kurt())\n",
    "    )\n",
    "\n",
    "print(combined_data.head())"
   ]
  },
  {
   "cell_type": "markdown",
   "metadata": {},
   "source": [
    "## 4. Prepare Final Dataset"
   ]
  },
  {
   "cell_type": "code",
   "execution_count": 9,
   "metadata": {},
   "outputs": [
    {
     "name": "stdout",
     "output_type": "stream",
     "text": [
      "Final dataset saved to c:\\Users\\kenne\\Python_Quant_Projects\\Forecasting_Realized_Volatility_with_GARCH_&_Deep_Learning_Models\\data\\processed/final_feature_dataset.csv\n",
      "         Date Ticker      Close                High                 Low  \\\n",
      "0  2011-03-29   AAPL  10.535863  10.535862922668457  10.388764951541924   \n",
      "1  2011-03-29   ADBE  32.619999  32.880001068115234   32.27000045776367   \n",
      "2  2011-03-29   AMZN   8.731000   8.741999626159668   8.503499984741211   \n",
      "3  2011-03-29    BAC  10.446569  10.493519897399569   10.29789126173958   \n",
      "4  2011-03-29  CMCSA   8.973815   9.028711734126231   8.867680604309363   \n",
      "\n",
      "                 Open     Volume     SMA_25     SMA_50     EMA_25  ...  \\\n",
      "0  10.436796647639797  352900800  10.425410  10.415684  10.395068  ...   \n",
      "1   32.45000076293945    8032300  33.582400  33.654400  33.173122  ...   \n",
      "2   8.536499977111816   97692000   8.455800   8.755850   8.509611  ...   \n",
      "3  10.493519897399569  117737500  10.945792  11.086535  10.887379  ...   \n",
      "4   8.918918194462636   25561800   9.069410   8.871342   8.959546  ...   \n",
      "\n",
      "   Rolling_Skew_10  Rolling_Kurt_10  Rolling_Mean_20  Rolling_Std_20  \\\n",
      "0        -1.296035         2.331672        10.425746        0.267853   \n",
      "1        -0.562477         0.018037        33.481500        1.318318   \n",
      "2         0.227958        -0.906834         8.383750        0.191483   \n",
      "3         0.877951         0.751299        10.923510        0.307704   \n",
      "4        -0.291303        -0.678367         9.028896        0.236769   \n",
      "\n",
      "   Rolling_Skew_20  Rolling_Kurt_20  Rolling_Mean_50  Rolling_Std_50  \\\n",
      "0        -0.822883         1.066349        10.415684        0.265153   \n",
      "1        -0.374637        -0.426417        33.654400        0.953315   \n",
      "2         0.547983        -0.490094         8.755850        0.416982   \n",
      "3         1.503052         2.160962        11.086535        0.345058   \n",
      "4         0.281746        -0.659762         8.871342        0.328202   \n",
      "\n",
      "   Rolling_Skew_50  Rolling_Kurt_50  \n",
      "0        -0.557817         0.296745  \n",
      "1        -0.593158         0.556976  \n",
      "2        -0.359161         2.521032  \n",
      "3         0.562577         0.949479  \n",
      "4         0.176704        -0.141627  \n",
      "\n",
      "[5 rows x 44 columns]\n",
      "(57115, 44)\n"
     ]
    }
   ],
   "source": [
    "# Drop rows with NaN values due to lagging and rolling\n",
    "final_data = combined_data.dropna()\n",
    "\n",
    "# Reset index\n",
    "final_data = final_data.reset_index()\n",
    "\n",
    "# Save final dataset\n",
    "final_file_path = f'{processed_data_path}/final_feature_dataset.csv'\n",
    "final_data.to_csv(final_file_path, index=False)\n",
    "print(f'Final dataset saved to {final_file_path}')\n",
    "print(final_data.head())\n",
    "print(final_data.shape)"
   ]
  }
 ],
 "metadata": {
  "kernelspec": {
   "display_name": ".venv",
   "language": "python",
   "name": "python3"
  },
  "language_info": {
   "codemirror_mode": {
    "name": "ipython",
    "version": 3
   },
   "file_extension": ".py",
   "mimetype": "text/x-python",
   "name": "python",
   "nbconvert_exporter": "python",
   "pygments_lexer": "ipython3",
   "version": "3.13.5"
  }
 },
 "nbformat": 4,
 "nbformat_minor": 4
}
